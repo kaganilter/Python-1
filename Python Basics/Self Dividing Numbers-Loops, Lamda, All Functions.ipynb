{
 "cells": [
  {
   "cell_type": "markdown",
   "metadata": {},
   "source": [
    "# Self Dividing Numbers\n",
    "\n",
    "In this example, we want to find whether a range of numbers are divisible by their own digits. Two different solutions, one with for loops and the other with lambda function, are shown below."
   ]
  },
  {
   "cell_type": "markdown",
   "metadata": {},
   "source": [
    "## 1st Solution"
   ]
  },
  {
   "cell_type": "code",
   "execution_count": 3,
   "metadata": {},
   "outputs": [
    {
     "name": "stdout",
     "output_type": "stream",
     "text": [
      "[1, 2, 3, 4, 5, 6, 7, 8, 9, 11, 12, 15, 22, 24, 33, 36, 44, 48, 55, 66, 77, 88, 99, 111, 112, 115, 122, 124, 126, 128, 132, 135, 144, 155, 162, 168, 175, 184]\n"
     ]
    }
   ],
   "source": [
    "left = 1 \n",
    "right = 200\n",
    "\n",
    "result = []\n",
    "\n",
    "def check_div(i):\n",
    "    for s in str(i):\n",
    "        if int(s) == 0 or i % int(s) != 0:\n",
    "            return False\n",
    "    return True\n",
    "\n",
    "for i in range(left,(right + 1)):\n",
    "    if check_div(i):\n",
    "        result.append(int(i))\n",
    "\n",
    "print(result)"
   ]
  },
  {
   "cell_type": "markdown",
   "metadata": {},
   "source": [
    "## 2nd Solution"
   ]
  },
  {
   "cell_type": "markdown",
   "metadata": {},
   "source": [
    "In this solution, _filter_ and _all_ function are used along with _lambda_."
   ]
  },
  {
   "cell_type": "code",
   "execution_count": 4,
   "metadata": {},
   "outputs": [
    {
     "name": "stdout",
     "output_type": "stream",
     "text": [
      "[1, 2, 3, 4, 5, 6, 7, 8, 9, 11, 12, 15, 22, 24, 33, 36, 44, 48, 55, 66, 77, 88, 99, 111, 112, 115, 122, 124, 126, 128, 132, 135, 144, 155, 162, 168, 175, 184]\n"
     ]
    }
   ],
   "source": [
    "left = 1\n",
    "right = 200\n",
    "\n",
    "result = []\n",
    "\n",
    "nums = list(range(left, right + 1))\n",
    "\n",
    "result = filter(lambda x: '0' not in str(x) and all(x%int(i) == 0 for i in str(x)), nums)\n",
    "\n",
    "    \n",
    "print(list(result))"
   ]
  }
 ],
 "metadata": {
  "kernelspec": {
   "display_name": "Python 3",
   "language": "python",
   "name": "python3"
  },
  "language_info": {
   "codemirror_mode": {
    "name": "ipython",
    "version": 3
   },
   "file_extension": ".py",
   "mimetype": "text/x-python",
   "name": "python",
   "nbconvert_exporter": "python",
   "pygments_lexer": "ipython3",
   "version": "3.7.0"
  }
 },
 "nbformat": 4,
 "nbformat_minor": 2
}
