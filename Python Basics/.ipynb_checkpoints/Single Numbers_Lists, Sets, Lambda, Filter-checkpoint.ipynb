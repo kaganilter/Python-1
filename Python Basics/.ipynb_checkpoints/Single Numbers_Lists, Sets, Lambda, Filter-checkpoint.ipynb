{
 "cells": [
  {
   "cell_type": "markdown",
   "metadata": {
    "slideshow": {
     "slide_type": "skip"
    }
   },
   "source": [
    "# Finding the Single Numbers in a List"
   ]
  },
  {
   "cell_type": "markdown",
   "metadata": {},
   "source": [
    "The goal in this example is to find single numbers in an array of numbers."
   ]
  },
  {
   "cell_type": "markdown",
   "metadata": {},
   "source": [
    "I intend to cover the following subjects in this notebook:\n",
    "  - Lists\n",
    "  - Sets\n",
    "  - Creating anonymous functions using *Lambda* syntax.\n",
    "  - Filter function"
   ]
  },
  {
   "cell_type": "markdown",
   "metadata": {
    "slideshow": {
     "slide_type": "-"
    }
   },
   "source": [
    "Let's create a List. It is important to know that, a list can contain same items more than once. In the following set only two numbers appear once. The others appear more than once."
   ]
  },
  {
   "cell_type": "code",
   "execution_count": 1,
   "metadata": {},
   "outputs": [
    {
     "name": "stdout",
     "output_type": "stream",
     "text": [
      "[1, 2, 1, 3, 2, 5, 4, 8, 4, 8, 6, 6]\n"
     ]
    }
   ],
   "source": [
    "nums = [1, 2, 1, 3, 2, 5, 4, 8, 4, 8, 6, 6]\n",
    "print(nums)"
   ]
  },
  {
   "cell_type": "markdown",
   "metadata": {},
   "source": [
    "*Sets* are data structures, in some ways similar to *Lists*. However, as opposed to *Lists*, *Sets* cannot contain duplicate data elements. In the following set, every element is unique and appears only once. It is also worth noting that that sets are unordered."
   ]
  },
  {
   "cell_type": "code",
   "execution_count": 2,
   "metadata": {
    "scrolled": true
   },
   "outputs": [
    {
     "name": "stdout",
     "output_type": "stream",
     "text": [
      "{1, 2, 3, 4, 5, 6, 8}\n"
     ]
    }
   ],
   "source": [
    "set_nums = set(nums)\n",
    "print(set_nums)"
   ]
  },
  {
   "cell_type": "markdown",
   "metadata": {},
   "source": [
    "We can create an empty List as follows:"
   ]
  },
  {
   "cell_type": "code",
   "execution_count": 3,
   "metadata": {
    "scrolled": true
   },
   "outputs": [
    {
     "name": "stdout",
     "output_type": "stream",
     "text": [
      "[]\n"
     ]
    }
   ],
   "source": [
    "one_num = []\n",
    "print(one_num)"
   ]
  },
  {
   "cell_type": "markdown",
   "metadata": {},
   "source": [
    "For every element in the List \"nums,\" we check the number of times they appear as an element. If an element appears only once, then we add that item to another list \"answer\" with __append__ method."
   ]
  },
  {
   "cell_type": "code",
   "execution_count": 4,
   "metadata": {},
   "outputs": [
    {
     "name": "stdout",
     "output_type": "stream",
     "text": [
      "[3, 5]\n"
     ]
    }
   ],
   "source": [
    "for i in nums:\n",
    "    if nums.count(i) == 1:\n",
    "        one_num.append(i)\n",
    "print(one_num)"
   ]
  },
  {
   "cell_type": "markdown",
   "metadata": {},
   "source": [
    "Another solution to this problem is using the *Lambda* syntax, and built-in *Filter* funciton."
   ]
  },
  {
   "cell_type": "code",
   "execution_count": 5,
   "metadata": {},
   "outputs": [
    {
     "name": "stdout",
     "output_type": "stream",
     "text": [
      "[3, 5]\n"
     ]
    }
   ],
   "source": [
    "one_num = list(filter(lambda x: nums.count(x) == 1, nums))\n",
    "\n",
    "print(one_num)"
   ]
  },
  {
   "cell_type": "markdown",
   "metadata": {},
   "source": [
    "When we have a higher number of elements which occur only once, a faster Solution would be using Sets."
   ]
  },
  {
   "cell_type": "code",
   "execution_count": 6,
   "metadata": {},
   "outputs": [
    {
     "name": "stdout",
     "output_type": "stream",
     "text": [
      "[3, 5]\n"
     ]
    }
   ],
   "source": [
    "one_num = []\n",
    "set_nums = set(nums)\n",
    "for i in set_nums:\n",
    "    if nums.count(i) == 1:\n",
    "        one_num.append(i)\n",
    "        \n",
    "print(one_num)"
   ]
  },
  {
   "cell_type": "markdown",
   "metadata": {},
   "source": [
    "Note: The original problem can be found in the [Leetcode](https://leetcode.com/problems/single-number-iii) website."
   ]
  }
 ],
 "metadata": {
  "kernelspec": {
   "display_name": "Python 3",
   "language": "python",
   "name": "python3"
  },
  "language_info": {
   "codemirror_mode": {
    "name": "ipython",
    "version": 3
   },
   "file_extension": ".py",
   "mimetype": "text/x-python",
   "name": "python",
   "nbconvert_exporter": "python",
   "pygments_lexer": "ipython3",
   "version": "3.7.0"
  }
 },
 "nbformat": 4,
 "nbformat_minor": 2
}
