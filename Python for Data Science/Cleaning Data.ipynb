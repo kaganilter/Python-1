{
 "cells": [
  {
   "cell_type": "markdown",
   "metadata": {},
   "source": [
    "# Cleaning Data"
   ]
  },
  {
   "cell_type": "markdown",
   "metadata": {},
   "source": [
    "## Viewing Data"
   ]
  },
  {
   "cell_type": "code",
   "execution_count": null,
   "metadata": {},
   "outputs": [],
   "source": [
    "import pandas as pd\n",
    "\n",
    "df = pd.read_csv('filename.csv')\n",
    "\n",
    "print(df.head())\n",
    "print(df.tail())\n",
    "\n",
    "print(df.shape)\n",
    "print(df.columns)\n",
    "\n",
    "print(df.info()) # Information including the column names and type of the columns"
   ]
  },
  {
   "cell_type": "markdown",
   "metadata": {},
   "source": [
    "## Exploratory Data Analysis"
   ]
  },
  {
   "cell_type": "markdown",
   "metadata": {},
   "source": [
    "### Descriptive Statistics"
   ]
  },
  {
   "cell_type": "markdown",
   "metadata": {},
   "source": [
    "For summary statistics, `.describe()` method can be used. However, it is worth noting that this method can only be used on numeric columns. Another method, `.value_counts()`, can be used for categorical data. It returns the frequency counts for each unique value in a column."
   ]
  },
  {
   "cell_type": "code",
   "execution_count": null,
   "metadata": {},
   "outputs": [],
   "source": [
    "print(df.describe()) # Summary statistics for all numerical columns\n",
    "print(df['column name'].describe()) # Summary statistics for a specific column\n",
    "\n",
    "print(df['column name'].value_counts(dropna=False)) # dropna=False will give a frequency count of the missing observations.\n"
   ]
  },
  {
   "cell_type": "markdown",
   "metadata": {},
   "source": [
    "### Visualization"
   ]
  },
  {
   "cell_type": "code",
   "execution_count": null,
   "metadata": {},
   "outputs": [],
   "source": [
    "# import pandas as pd\n",
    "import matplotlib.pyplot as plt\n",
    "\n",
    "# Histogram\n",
    "df['column name'].plot(kind='hist')\n",
    "plt.show()\n",
    "\n",
    "# Boxplot\n",
    "df.boxplot(column='column name', by='column name')\n",
    "plt.show()\n",
    "\n",
    "# Scatter plot\n",
    "df.plot(kind='scatter', x='column name', y='column name')\n",
    "plt.show()"
   ]
  },
  {
   "cell_type": "markdown",
   "metadata": {},
   "source": [
    "## Tidying Data"
   ]
  },
  {
   "cell_type": "markdown",
   "metadata": {},
   "source": [
    "Melting Data: In melting we turn specific columns into rows. `pd.melt()` is used to reshape the data. _id_vars_ is for variables or columns we do not want to melt, _value_vars_ is for variables we wish to melt into rows."
   ]
  },
  {
   "cell_type": "markdown",
   "metadata": {},
   "source": [
    "Pivoting Data: In pivoting we turn unique observations into columns."
   ]
  },
  {
   "cell_type": "code",
   "execution_count": null,
   "metadata": {},
   "outputs": [],
   "source": []
  },
  {
   "cell_type": "markdown",
   "metadata": {},
   "source": [
    "##"
   ]
  }
 ],
 "metadata": {
  "kernelspec": {
   "display_name": "Python 3",
   "language": "python",
   "name": "python3"
  },
  "language_info": {
   "codemirror_mode": {
    "name": "ipython",
    "version": 3
   },
   "file_extension": ".py",
   "mimetype": "text/x-python",
   "name": "python",
   "nbconvert_exporter": "python",
   "pygments_lexer": "ipython3",
   "version": "3.7.0"
  }
 },
 "nbformat": 4,
 "nbformat_minor": 2
}
