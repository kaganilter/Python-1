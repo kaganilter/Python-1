{
 "cells": [
  {
   "cell_type": "markdown",
   "metadata": {},
   "source": [
    "# Mors Code Converter"
   ]
  },
  {
   "cell_type": "markdown",
   "metadata": {},
   "source": [
    "Mors codes are used in communication. In this example, I convert an input (sentence) into a mors code. The goal of this notebook is to provide information on the following subjects:\n",
    "  - Create a dictionary\n",
    "  - Get an _input_ from the user\n",
    "  - Change a character from lowercase to _uppercase_\n",
    "  - Print several outputs in the same line\n",
    "  - Exception handling"
   ]
  },
  {
   "cell_type": "markdown",
   "metadata": {},
   "source": [
    "## Dictionary"
   ]
  },
  {
   "cell_type": "code",
   "execution_count": 1,
   "metadata": {},
   "outputs": [],
   "source": [
    "MORS = {'A': '.-',    'B': '-...',   'C': '-.-.',  'D': '-..',\n",
    "        'E': '.',     'F': '..-.',   'G': '--.',   'H': '....',\n",
    "        'I': '..',    'J': '.---',   'K': '-.-',   'L': '.-..',\n",
    "        'M': '--',    'N': '-.',     'O': '---',   'P': '.--.',\n",
    "        'Q': '--.-',  'R': '.-.',    'S': '...',   'T': '-',\n",
    "        'U': '..-',   'V': '...-',   'W': '.--',   'X': '-..-',\n",
    "        'Y': '-.--',  'Z': '--..',  \n",
    "        \n",
    "        ' ': ' ', #this item is added to recognize word spacing.\n",
    "        \n",
    "        '0': '-----', '1': '.----',  '2': '..---', '3': '...--',\n",
    "        '4': '....-', '5': '.....',  '6': '-....', '7': '--...',\n",
    "        '8': '---..', '9': '----.' \n",
    "        }"
   ]
  },
  {
   "cell_type": "markdown",
   "metadata": {},
   "source": [
    "We need to take every character and convert it to uppercase. If we do not convert the characters to uppercase we get an error message, since lowercase letters are not included in the dictionary **MORS**. It is also possible to enter "
   ]
  },
  {
   "cell_type": "code",
   "execution_count": 2,
   "metadata": {},
   "outputs": [
    {
     "name": "stdout",
     "output_type": "stream",
     "text": [
      "MESSAGE: Hello\n",
      "....\n",
      ".\n",
      ".-..\n",
      ".-..\n",
      "---\n"
     ]
    }
   ],
   "source": [
    "def convert():\n",
    "    message = input('MESSAGE: ')\n",
    "    for char in message:\n",
    "        print(MORS[char.upper()])\n",
    "\n",
    "convert()"
   ]
  },
  {
   "cell_type": "markdown",
   "metadata": {},
   "source": [
    "What if someone enters a character that is not in the English alphabet? We need to put an exception for that and ask the user to enter only digits or proper characters"
   ]
  },
  {
   "cell_type": "code",
   "execution_count": 3,
   "metadata": {},
   "outputs": [
    {
     "name": "stdout",
     "output_type": "stream",
     "text": [
      "MESSAGE: Hello Şila\n",
      "....\n",
      ".\n",
      ".-..\n",
      ".-..\n",
      "---\n",
      " \n",
      "Please enter English character and/or numbers\n"
     ]
    }
   ],
   "source": [
    "def convert_with_excpt():\n",
    "    try:\n",
    "        message = input('MESSAGE: ')\n",
    "        for char in message:\n",
    "            print(MORS[char.upper()])\n",
    "    except:\n",
    "        print(\"Please enter English character and/or numbers\")\n",
    "\n",
    "convert_with_excpt()"
   ]
  },
  {
   "cell_type": "markdown",
   "metadata": {},
   "source": [
    "We also want the result to be shown in the same line. In Python 3, this can be done with _end = \" \"_"
   ]
  },
  {
   "cell_type": "code",
   "execution_count": 4,
   "metadata": {},
   "outputs": [
    {
     "name": "stdout",
     "output_type": "stream",
     "text": [
      "MESSAGE: Hello World\n",
      "....  .  .-..  .-..  ---     .--  ---  .-.  .-..  -..  "
     ]
    }
   ],
   "source": [
    "def convert_with_excpt():\n",
    "    try:\n",
    "        message = input('MESSAGE: ')\n",
    "        for char in message:\n",
    "            print(MORS[char.upper()], end = \"  \")\n",
    "    except:\n",
    "        print(\"Please enter English character and/or numbers\")\n",
    "\n",
    "convert_with_excpt()"
   ]
  },
  {
   "cell_type": "markdown",
   "metadata": {},
   "source": [
    "It is also possible to show the characters along with the Mors codes."
   ]
  },
  {
   "cell_type": "code",
   "execution_count": 5,
   "metadata": {},
   "outputs": [
    {
     "name": "stdout",
     "output_type": "stream",
     "text": [
      "MESSAGE: Hello World\n",
      "H(....)  E(.)  L(.-..)  L(.-..)  O(---)   ( )  W(.--)  O(---)  R(.-.)  L(.-..)  D(-..)  "
     ]
    }
   ],
   "source": [
    "def convert_with_excpt():\n",
    "    try:\n",
    "        message = input('MESSAGE: ')\n",
    "        for char in message:\n",
    "            print(char.upper() + \"(\" + MORS[char.upper()] + \")\", end = \"  \")\n",
    "    except:\n",
    "        print(\"Please enter English character and/or numbers\")\n",
    "\n",
    "convert_with_excpt()"
   ]
  }
 ],
 "metadata": {
  "kernelspec": {
   "display_name": "Python 3",
   "language": "python",
   "name": "python3"
  },
  "language_info": {
   "codemirror_mode": {
    "name": "ipython",
    "version": 3
   },
   "file_extension": ".py",
   "mimetype": "text/x-python",
   "name": "python",
   "nbconvert_exporter": "python",
   "pygments_lexer": "ipython3",
   "version": "3.7.0"
  }
 },
 "nbformat": 4,
 "nbformat_minor": 2
}
